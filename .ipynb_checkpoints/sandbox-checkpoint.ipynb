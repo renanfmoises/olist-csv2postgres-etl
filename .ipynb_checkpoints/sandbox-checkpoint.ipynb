{
 "cells": [
  {
   "cell_type": "code",
   "execution_count": 1,
   "id": "e2971c6d",
   "metadata": {},
   "outputs": [],
   "source": [
    "import os\n",
    "import psycopg2"
   ]
  },
  {
   "cell_type": "code",
   "execution_count": 2,
   "id": "a4a4552a",
   "metadata": {},
   "outputs": [
    {
     "data": {
      "text/plain": [
       "['etl.py',\n",
       " 'Makefile',\n",
       " 'sql_queries.py',\n",
       " 'raw_data',\n",
       " '__pycache__',\n",
       " 'create_tables.py',\n",
       " 'README.md',\n",
       " '.gitignore',\n",
       " '.ipynb_checkpoints',\n",
       " 'sandbox.ipynb',\n",
       " '.git',\n",
       " 'notebooks']"
      ]
     },
     "execution_count": 2,
     "metadata": {},
     "output_type": "execute_result"
    }
   ],
   "source": [
    "os.listdir()"
   ]
  },
  {
   "cell_type": "code",
   "execution_count": 9,
   "id": "82d832f7",
   "metadata": {},
   "outputs": [
    {
     "data": {
      "text/plain": [
       "['olist_sellers_dataset.csv',\n",
       " 'product_category_name_translation.csv',\n",
       " 'olist_orders_dataset.csv',\n",
       " 'olist_order_items_dataset.csv',\n",
       " 'olist_customers_dataset.csv',\n",
       " 'olist_geolocation_dataset.csv',\n",
       " 'olist_order_payments_dataset.csv',\n",
       " 'olist_order_reviews_dataset.csv',\n",
       " 'olist_products_dataset.csv']"
      ]
     },
     "execution_count": 9,
     "metadata": {},
     "output_type": "execute_result"
    }
   ],
   "source": [
    "file_name_list = os.listdir(os.path.join(os.getcwd(), \"raw_data\"))\n",
    "file_name_list"
   ]
  },
  {
   "cell_type": "code",
   "execution_count": 20,
   "id": "fd38c8af",
   "metadata": {},
   "outputs": [
    {
     "data": {
      "text/plain": [
       "['customers',\n",
       " 'geolocation',\n",
       " 'orders',\n",
       " 'products',\n",
       " 'sellers',\n",
       " 'order_items',\n",
       " 'order_payments',\n",
       " 'order_reviews']"
      ]
     },
     "execution_count": 20,
     "metadata": {},
     "output_type": "execute_result"
    }
   ],
   "source": [
    "tables = [\n",
    "    \"customers\",\n",
    "    \"geolocation\",\n",
    "    \"orders\",\n",
    "    \"products\",\n",
    "    \"sellers\",\n",
    "    \"order_items\",\n",
    "    \"order_payments\",\n",
    "    \"order_reviews\"\n",
    "]\n",
    "\n",
    "file_names = [\n",
    "    \"olist_customers_dataset.csv\",\n",
    "    \"olist_geolocation_dataset.csv\",\n",
    "    \"olist_orders_dataset.csv\",\n",
    "    \"olist_products_dataset.csv\",\n",
    "    \"olist_sellers_dataset.csv\",\n",
    "    \"olist_order_items_dataset.csv\",\n",
    "    \"olist_order_payments_dataset.csv\",\n",
    "    \"olist_order_reviews_dataset.csv\",\n",
    "    \n",
    "]"
   ]
  },
  {
   "cell_type": "code",
   "execution_count": 16,
   "id": "4227ca77",
   "metadata": {},
   "outputs": [],
   "source": [
    "tables = sorted([])\n",
    "for file_name in file_name_list:\n",
    "    if file_name.startswith(\"olist_\"):\n",
    "        file_name = file_name.replace(\"_dataset.csv\", \"\")\n",
    "        file_name = file_name.replace(\"olist_\", \"\")\n",
    "        tables.append(file_name)"
   ]
  },
  {
   "cell_type": "code",
   "execution_count": 18,
   "id": "b278ce02",
   "metadata": {},
   "outputs": [
    {
     "data": {
      "text/plain": [
       "['customers',\n",
       " 'geolocation',\n",
       " 'order_items',\n",
       " 'order_payments',\n",
       " 'order_reviews',\n",
       " 'orders',\n",
       " 'products',\n",
       " 'sellers']"
      ]
     },
     "execution_count": 18,
     "metadata": {},
     "output_type": "execute_result"
    }
   ],
   "source": [
    "sorted(tables)"
   ]
  },
  {
   "cell_type": "code",
   "execution_count": 8,
   "id": "2f6fdc24",
   "metadata": {},
   "outputs": [
    {
     "name": "stdout",
     "output_type": "stream",
     "text": [
      "olist_sellers_dataset.csv\n",
      "product_category_name_translation.csv\n",
      "olist_orders_dataset.csv\n",
      "olist_order_items_dataset.csv\n",
      "olist_customers_dataset.csv\n",
      "olist_geolocation_dataset.csv\n",
      "olist_order_payments_dataset.csv\n",
      "olist_order_reviews_dataset.csv\n",
      "olist_products_dataset.csv\n"
     ]
    }
   ],
   "source": [
    "for file_name in file_name_list:\n",
    "    if file_name.startswith(\"olist_\"):\n",
    "        "
   ]
  },
  {
   "cell_type": "code",
   "execution_count": null,
   "id": "77cbd68d",
   "metadata": {},
   "outputs": [],
   "source": []
  }
 ],
 "metadata": {
  "kernelspec": {
   "display_name": "Python 3 (ipykernel)",
   "language": "python",
   "name": "python3"
  },
  "language_info": {
   "codemirror_mode": {
    "name": "ipython",
    "version": 3
   },
   "file_extension": ".py",
   "mimetype": "text/x-python",
   "name": "python",
   "nbconvert_exporter": "python",
   "pygments_lexer": "ipython3",
   "version": "3.8.12"
  },
  "toc": {
   "base_numbering": 1,
   "nav_menu": {},
   "number_sections": true,
   "sideBar": true,
   "skip_h1_title": false,
   "title_cell": "Table of Contents",
   "title_sidebar": "Contents",
   "toc_cell": false,
   "toc_position": {},
   "toc_section_display": true,
   "toc_window_display": false
  }
 },
 "nbformat": 4,
 "nbformat_minor": 5
}
