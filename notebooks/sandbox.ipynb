{
 "cells": [
  {
   "cell_type": "code",
   "execution_count": 1,
   "id": "412b978c",
   "metadata": {},
   "outputs": [],
   "source": [
    "import os\n",
    "import psycopg2\n",
    "\n",
    "import pandas as pd"
   ]
  },
  {
   "cell_type": "code",
   "execution_count": 2,
   "id": "66dda579",
   "metadata": {},
   "outputs": [
    {
     "name": "stdout",
     "output_type": "stream",
     "text": [
      "/Users/renan/Projects/olist-csv2postgres-etl/notebooks\r\n"
     ]
    }
   ],
   "source": [
    "!pwd"
   ]
  },
  {
   "cell_type": "code",
   "execution_count": 3,
   "id": "00f6a94f",
   "metadata": {},
   "outputs": [
    {
     "data": {
      "text/plain": [
       "['olist_sellers_dataset.csv',\n",
       " 'product_category_name_translation.csv',\n",
       " 'olist_orders_dataset.csv',\n",
       " 'olist_order_reviews_dataset_v7.csv',\n",
       " 'olist_order_reviews_dataset_v6.csv',\n",
       " 'olist_order_items_dataset.csv',\n",
       " 'olist_order_reviews_dataset_v2.csv',\n",
       " 'olist_order_reviews_dataset_v3.csv',\n",
       " 'order_reviews_v2.csv',\n",
       " 'order_reviews_v4.csv',\n",
       " 'olist_customers_dataset.csv',\n",
       " 'olist_geolocation_dataset.csv',\n",
       " 'olist_order_payments_dataset.csv',\n",
       " 'olist_order_reviews_dataset.csv',\n",
       " 'olist_products_dataset.csv']"
      ]
     },
     "execution_count": 3,
     "metadata": {},
     "output_type": "execute_result"
    }
   ],
   "source": [
    "os.listdir(\"../raw_data\")"
   ]
  },
  {
   "cell_type": "code",
   "execution_count": 4,
   "id": "35d7d6c8",
   "metadata": {},
   "outputs": [
    {
     "data": {
      "text/plain": [
       "['olist_sellers_dataset.csv',\n",
       " 'product_category_name_translation.csv',\n",
       " 'olist_orders_dataset.csv',\n",
       " 'olist_order_reviews_dataset_v7.csv',\n",
       " 'olist_order_reviews_dataset_v6.csv',\n",
       " 'olist_order_items_dataset.csv',\n",
       " 'olist_order_reviews_dataset_v2.csv',\n",
       " 'olist_order_reviews_dataset_v3.csv',\n",
       " 'order_reviews_v2.csv',\n",
       " 'order_reviews_v4.csv',\n",
       " 'olist_customers_dataset.csv',\n",
       " 'olist_geolocation_dataset.csv',\n",
       " 'olist_order_payments_dataset.csv',\n",
       " 'olist_order_reviews_dataset.csv',\n",
       " 'olist_products_dataset.csv']"
      ]
     },
     "execution_count": 4,
     "metadata": {},
     "output_type": "execute_result"
    }
   ],
   "source": [
    "file_name_list = os.listdir(os.path.join(os.getcwd(), \"../raw_data\"))\n",
    "file_name_list"
   ]
  },
  {
   "cell_type": "code",
   "execution_count": 5,
   "id": "394004fe",
   "metadata": {},
   "outputs": [],
   "source": [
    "tables = [\n",
    "    \"customers\",\n",
    "    \"geolocation\",\n",
    "    \"orders\",\n",
    "    \"products\",\n",
    "    \"sellers\",\n",
    "    \"order_items\",\n",
    "    \"order_payments\",\n",
    "    \"order_reviews\"\n",
    "]\n",
    "\n",
    "file_names = [\n",
    "    \"olist_customers_dataset.csv\",\n",
    "    \"olist_geolocation_dataset.csv\",\n",
    "    \"olist_orders_dataset.csv\",\n",
    "    \"olist_products_dataset.csv\",\n",
    "    \"olist_sellers_dataset.csv\",\n",
    "    \"olist_order_items_dataset.csv\",\n",
    "    \"olist_order_payments_dataset.csv\",\n",
    "    \"olist_order_reviews_dataset.csv\",\n",
    "    \n",
    "]"
   ]
  },
  {
   "cell_type": "code",
   "execution_count": 6,
   "id": "9b1b45bb",
   "metadata": {},
   "outputs": [
    {
     "data": {
      "text/plain": [
       "{'customers': 'olist_customers_dataset.csv',\n",
       " 'geolocation': 'olist_geolocation_dataset.csv',\n",
       " 'orders': 'olist_orders_dataset.csv',\n",
       " 'products': 'olist_products_dataset.csv',\n",
       " 'sellers': 'olist_sellers_dataset.csv',\n",
       " 'order_items': 'olist_order_items_dataset.csv',\n",
       " 'order_payments': 'olist_order_payments_dataset.csv',\n",
       " 'order_reviews': 'olist_order_reviews_dataset.csv'}"
      ]
     },
     "execution_count": 6,
     "metadata": {},
     "output_type": "execute_result"
    }
   ],
   "source": [
    "tables_files_dict = {}\n",
    "for k, v in zip(tables, file_names):\n",
    "    tables_files_dict[k] = v\n",
    "    \n",
    "tables_files_dict"
   ]
  },
  {
   "cell_type": "code",
   "execution_count": 7,
   "id": "be0601af",
   "metadata": {},
   "outputs": [
    {
     "name": "stdout",
     "output_type": "stream",
     "text": [
      "olist_sellers_dataset.csv\n",
      "olist_orders_dataset.csv\n",
      "olist_order_reviews_dataset_v7.csv\n",
      "olist_order_reviews_dataset_v6.csv\n",
      "olist_order_items_dataset.csv\n",
      "olist_order_reviews_dataset_v2.csv\n",
      "olist_order_reviews_dataset_v3.csv\n",
      "olist_customers_dataset.csv\n",
      "olist_geolocation_dataset.csv\n",
      "olist_order_payments_dataset.csv\n",
      "olist_order_reviews_dataset.csv\n",
      "olist_products_dataset.csv\n"
     ]
    }
   ],
   "source": [
    "for file_name in file_name_list:\n",
    "    if file_name.startswith(\"olist_\"):\n",
    "        print(file_name)"
   ]
  },
  {
   "cell_type": "code",
   "execution_count": 8,
   "id": "dfa47078",
   "metadata": {},
   "outputs": [
    {
     "data": {
      "text/plain": [
       "dict_keys(['customers', 'geolocation', 'orders', 'products', 'sellers', 'order_items', 'order_payments', 'order_reviews'])"
      ]
     },
     "execution_count": 8,
     "metadata": {},
     "output_type": "execute_result"
    }
   ],
   "source": [
    "data = {}\n",
    "for k, v in zip(tables, file_names):\n",
    "    data[k] = pd.read_csv(f\"../raw_data/{v}\")\n",
    "    \n",
    "data.keys()"
   ]
  },
  {
   "cell_type": "code",
   "execution_count": 9,
   "id": "7fe0b52b",
   "metadata": {},
   "outputs": [
    {
     "data": {
      "text/plain": [
       "Series([], Name: seller_city, dtype: object)"
      ]
     },
     "execution_count": 9,
     "metadata": {},
     "output_type": "execute_result"
    }
   ],
   "source": [
    "data['sellers']['seller_city'][(data['sellers']['seller_city'].str.contains(\",\"))]"
   ]
  },
  {
   "cell_type": "code",
   "execution_count": 10,
   "id": "3ec30947",
   "metadata": {},
   "outputs": [
    {
     "name": "stdout",
     "output_type": "stream",
     "text": [
      "customers\n",
      "Index(['customer_id', 'customer_unique_id', 'customer_zip_code_prefix',\n",
      "       'customer_city', 'customer_state'],\n",
      "      dtype='object')\n",
      "\n",
      "\n",
      "geolocation\n",
      "Index(['geolocation_zip_code_prefix', 'geolocation_lat', 'geolocation_lng',\n",
      "       'geolocation_city', 'geolocation_state'],\n",
      "      dtype='object')\n",
      "\n",
      "\n",
      "orders\n",
      "Index(['order_id', 'customer_id', 'order_status', 'order_purchase_timestamp',\n",
      "       'order_approved_at', 'order_delivered_carrier_date',\n",
      "       'order_delivered_customer_date', 'order_estimated_delivery_date'],\n",
      "      dtype='object')\n",
      "\n",
      "\n",
      "products\n",
      "Index(['product_id', 'product_category_name', 'product_name_lenght',\n",
      "       'product_description_lenght', 'product_photos_qty', 'product_weight_g',\n",
      "       'product_length_cm', 'product_height_cm', 'product_width_cm'],\n",
      "      dtype='object')\n",
      "\n",
      "\n",
      "sellers\n",
      "Index(['seller_id', 'seller_zip_code_prefix', 'seller_city', 'seller_state'], dtype='object')\n",
      "\n",
      "\n",
      "order_items\n",
      "Index(['order_id', 'order_item_id', 'product_id', 'seller_id',\n",
      "       'shipping_limit_date', 'price', 'freight_value'],\n",
      "      dtype='object')\n",
      "\n",
      "\n",
      "order_payments\n",
      "Index(['order_id', 'payment_sequential', 'payment_type',\n",
      "       'payment_installments', 'payment_value'],\n",
      "      dtype='object')\n",
      "\n",
      "\n",
      "order_reviews\n",
      "Index(['review_id', 'order_id', 'review_score', 'review_comment_title',\n",
      "       'review_comment_message', 'review_creation_date',\n",
      "       'review_answer_timestamp'],\n",
      "      dtype='object')\n",
      "\n",
      "\n"
     ]
    }
   ],
   "source": [
    "for dataset, file in data.items():\n",
    "    print(dataset)\n",
    "    print(data[dataset].columns)\n",
    "    print('\\n')"
   ]
  },
  {
   "cell_type": "code",
   "execution_count": 11,
   "id": "0800e57f",
   "metadata": {},
   "outputs": [
    {
     "data": {
      "image/png": "[encoded data removed]",
      "text/plain": [
       "<Figure size 432x288 with 1 Axes>"
      ]
     },
     "metadata": {
      "needs_background": "light"
     },
     "output_type": "display_data"
    }
   ],
   "source": [
    "import matplotlib.pyplot as plt\n",
    "pd.to_datetime(data['orders']['order_purchase_timestamp']).dt.date.hist()\n",
    "plt.tight_layout()"
   ]
  },
  {
   "cell_type": "code",
   "execution_count": null,
   "id": "5c428825",
   "metadata": {},
   "outputs": [],
   "source": [
    "# data['order_reviews']['review_comment_message'] = data['order_reviews']['review_comment_message'].str.replace('\\n', '')"
   ]
  },
  {
   "cell_type": "code",
   "execution_count": null,
   "id": "32e0e57a",
   "metadata": {},
   "outputs": [],
   "source": [
    "def str_to_raw(string_:str):\n",
    "    return fr\"{string_}\""
   ]
  },
  {
   "cell_type": "code",
   "execution_count": 17,
   "id": "3d2b1255",
   "metadata": {},
   "outputs": [],
   "source": [
    "data['order_reviews'] = data['order_reviews'].drop(columns=['review_comment_title', 'review_comment_message'])"
   ]
  },
  {
   "cell_type": "code",
   "execution_count": 30,
   "id": "f13ab479",
   "metadata": {
    "scrolled": true
   },
   "outputs": [],
   "source": [
    "data['order_reviews']  = data['order_reviews'].drop_duplicates(subset='review_id')"
   ]
  },
  {
   "cell_type": "code",
   "execution_count": null,
   "id": "098e1cc6",
   "metadata": {},
   "outputs": [],
   "source": [
    "data['order_reviews']['review_comment_message'] = data['order_reviews']['review_comment_message'].str.encode('unicode_escape').str.decode('utf-8')"
   ]
  },
  {
   "cell_type": "code",
   "execution_count": null,
   "id": "0feaf8f0",
   "metadata": {},
   "outputs": [],
   "source": [
    "data['order_reviews']['review_comment_message'] = data['order_reviews']['review_comment_message'].str.replace(\",\", \";\")"
   ]
  },
  {
   "cell_type": "code",
   "execution_count": 31,
   "id": "e50e47ef",
   "metadata": {},
   "outputs": [],
   "source": [
    "data['order_reviews'].to_csv('../raw_data/olist_order_reviews_dataset_vShort.csv', index=False, )"
   ]
  },
  {
   "cell_type": "code",
   "execution_count": null,
   "id": "d43af2be",
   "metadata": {},
   "outputs": [],
   "source": [
    "weird_literal = 'þ'\n",
    "weird_name = '\\N{LATIN SMALL LETTER THORN}'\n",
    "weird_char = '\\xfe'  # hex representation\n",
    "weird_literal == weird_name == weird_char  # True"
   ]
  },
  {
   "cell_type": "code",
   "execution_count": null,
   "id": "7dfcf548",
   "metadata": {},
   "outputs": [],
   "source": [
    "new_data = [[data['order_reviews']['review_comment_message'].replace('\\n', weird_char) + weird_char, sample[1]]\n",
    "              for sample in data]"
   ]
  },
  {
   "cell_type": "code",
   "execution_count": 35,
   "id": "c1e85820",
   "metadata": {},
   "outputs": [
    {
     "data": {
      "text/plain": [
       "0"
      ]
     },
     "execution_count": 35,
     "metadata": {},
     "output_type": "execute_result"
    }
   ],
   "source": [
    "(data['customers'].duplicated(subset='customer_id')).sum()"
   ]
  },
  {
   "cell_type": "code",
   "execution_count": null,
   "id": "9794fbf2",
   "metadata": {},
   "outputs": [],
   "source": []
  }
 ],
 "metadata": {
  "kernelspec": {
   "display_name": "Python 3 (ipykernel)",
   "language": "python",
   "name": "python3"
  },
  "language_info": {
   "codemirror_mode": {
    "name": "ipython",
    "version": 3
   },
   "file_extension": ".py",
   "mimetype": "text/x-python",
   "name": "python",
   "nbconvert_exporter": "python",
   "pygments_lexer": "ipython3",
   "version": "3.8.12"
  },
  "toc": {
   "base_numbering": 1,
   "nav_menu": {
    "height": "429px",
    "width": "214px"
   },
   "number_sections": true,
   "sideBar": true,
   "skip_h1_title": false,
   "title_cell": "Table of Contents",
   "title_sidebar": "Contents",
   "toc_cell": false,
   "toc_position": {},
   "toc_section_display": true,
   "toc_window_display": false
  }
 },
 "nbformat": 4,
 "nbformat_minor": 5
}
