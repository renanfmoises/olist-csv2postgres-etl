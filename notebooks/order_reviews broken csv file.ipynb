{
 "cells": [
  {
   "cell_type": "code",
   "execution_count": 1,
   "id": "ec52eee4",
   "metadata": {},
   "outputs": [],
   "source": [
    "import pandas as pd\n",
    "import numpy as np"
   ]
  },
  {
   "cell_type": "code",
   "execution_count": 4,
   "id": "558b7a1c",
   "metadata": {},
   "outputs": [],
   "source": [
    "df = pd.read_csv(\"../raw_data/olist_order_reviews_dataset_vNew.csv\", quotechar='\"')"
   ]
  },
  {
   "cell_type": "code",
   "execution_count": 6,
   "id": "58b0922e",
   "metadata": {},
   "outputs": [
    {
     "data": {
      "text/plain": [
       "0                                                      NaN\n",
       "1                                                      NaN\n",
       "2                                                      NaN\n",
       "3                    Recebi bem antes do prazo estipulado.\n",
       "4        Parabéns lojas lannister adorei comprar pela I...\n",
       "                               ...                        \n",
       "99219                                                  NaN\n",
       "99220                                                  NaN\n",
       "99221    Excelente mochila, entrega super rápida. Super...\n",
       "99222                                                  NaN\n",
       "99223    meu produto chegou e ja tenho que devolver, po...\n",
       "Name: review_comment_message, Length: 99224, dtype: object"
      ]
     },
     "execution_count": 6,
     "metadata": {},
     "output_type": "execute_result"
    }
   ],
   "source": [
    "df['review_comment_message']"
   ]
  },
  {
   "cell_type": "code",
   "execution_count": 7,
   "id": "3e68e153",
   "metadata": {},
   "outputs": [
    {
     "data": {
      "text/plain": [
       "(99224, 7)"
      ]
     },
     "execution_count": 7,
     "metadata": {},
     "output_type": "execute_result"
    }
   ],
   "source": [
    "df.shape"
   ]
  },
  {
   "cell_type": "code",
   "execution_count": 14,
   "id": "f4105d44",
   "metadata": {},
   "outputs": [],
   "source": [
    "df.to_csv(\"../raw_data/olist_order_reviews_dataset.csv\", sep = \";\", quotechar='\"', escapechar=\"\\\\\", encoding='utf-8')"
   ]
  },
  {
   "cell_type": "code",
   "execution_count": null,
   "id": "f60f0676",
   "metadata": {},
   "outputs": [],
   "source": [
    " "
   ]
  }
 ],
 "metadata": {
  "kernelspec": {
   "display_name": "Python 3 (ipykernel)",
   "language": "python",
   "name": "python3"
  },
  "language_info": {
   "codemirror_mode": {
    "name": "ipython",
    "version": 3
   },
   "file_extension": ".py",
   "mimetype": "text/x-python",
   "name": "python",
   "nbconvert_exporter": "python",
   "pygments_lexer": "ipython3",
   "version": "3.8.12"
  },
  "toc": {
   "base_numbering": 1,
   "nav_menu": {},
   "number_sections": true,
   "sideBar": true,
   "skip_h1_title": false,
   "title_cell": "Table of Contents",
   "title_sidebar": "Contents",
   "toc_cell": false,
   "toc_position": {},
   "toc_section_display": true,
   "toc_window_display": false
  }
 },
 "nbformat": 4,
 "nbformat_minor": 5
}
